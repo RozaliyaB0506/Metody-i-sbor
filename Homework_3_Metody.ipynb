{
  "nbformat": 4,
  "nbformat_minor": 0,
  "metadata": {
    "colab": {
      "provenance": [],
      "collapsed_sections": []
    },
    "kernelspec": {
      "name": "python3",
      "display_name": "Python 3"
    },
    "language_info": {
      "name": "python"
    }
  },
  "cells": [
    {
      "cell_type": "code",
      "execution_count": 9,
      "metadata": {
        "colab": {
          "base_uri": "https://localhost:8080/"
        },
        "id": "EKSEUo2fUckz",
        "outputId": "6fa74b2d-ddfc-4b22-9a3b-d6360bd74b78"
      },
      "outputs": [
        {
          "output_type": "stream",
          "name": "stdout",
          "text": [
            "Looking in indexes: https://pypi.org/simple, https://us-python.pkg.dev/colab-wheels/public/simple/\n",
            "Requirement already satisfied: bs4 in /usr/local/lib/python3.7/dist-packages (0.0.1)\n",
            "Requirement already satisfied: beautifulsoup4 in /usr/local/lib/python3.7/dist-packages (from bs4) (4.6.3)\n"
          ]
        }
      ],
      "source": [
        "!pip install bs4"
      ]
    },
    {
      "cell_type": "code",
      "source": [
        "from bs4 import BeautifulSoup as bs\n",
        "import requests"
      ],
      "metadata": {
        "id": "PLVg4GHuUh9d"
      },
      "execution_count": 10,
      "outputs": []
    },
    {
      "cell_type": "code",
      "source": [
        "url = 'https://spb.hh.ru/search/vacancy'\n",
        "\n",
        "params = {\n",
        "    'area': 2,\n",
        "    'text': 'python',\n",
        "    'items_on_page': 'n'\n",
        "}\n",
        "\n",
        "headers = {\n",
        "    'User-Agent' : 'Mozilla/5.0 (Windows NT 10.0; Win64; x64) AppleWebKit/537.36 (KHTML, like Gecko) Chrome/106.0.0.0 Safari/537.36'\n",
        "}"
      ],
      "metadata": {
        "id": "Yyjpn9EkUo_c"
      },
      "execution_count": 33,
      "outputs": []
    },
    {
      "cell_type": "code",
      "source": [
        "response = requests.get(url=url, params=params, headers=headers)\n",
        "response.status_code"
      ],
      "metadata": {
        "colab": {
          "base_uri": "https://localhost:8080/"
        },
        "id": "-RkbSrSAUt84",
        "outputId": "ef45f4db-f30c-4e29-d573-4df8a729d9fd"
      },
      "execution_count": 34,
      "outputs": [
        {
          "output_type": "execute_result",
          "data": {
            "text/plain": [
              "200"
            ]
          },
          "metadata": {},
          "execution_count": 34
        }
      ]
    },
    {
      "cell_type": "code",
      "source": [
        "soup = bs(response.text, 'html.parser')"
      ],
      "metadata": {
        "id": "THWo9HdtyAxe"
      },
      "execution_count": 35,
      "outputs": []
    },
    {
      "cell_type": "code",
      "source": [
        "vacancies = soup.find_all('div', {'class': 'serp-item'})"
      ],
      "metadata": {
        "id": "fGaEtqmTyB-V"
      },
      "execution_count": 39,
      "outputs": []
    },
    {
      "cell_type": "code",
      "source": [
        "vacancies_list = []\n",
        "\n",
        "for vacancy in vacancies:\n",
        "  vacancy_name = vacancy.find('a', {'class': 'serp-item__title'}).getText()\n",
        "  vacancy_link = vacancy.find('a', {'class': 'serp-item__title'})['href']\n",
        "  vacancy_salary = vacancy.find('span', {'class': 'bloko-header-section-3'})\n",
        "  if vacancy_salary is not None:\n",
        "    vacancy_salary = vacancy_salary.getText()\n",
        "  vacancy_station = vacancy.find('span', {'class': 'metro-station'})\n",
        "  if vacancy_station is not None:\n",
        "    vacancy_station = vacancy_station.getText()\n",
        "\n",
        "  vacancy_dict = {\n",
        "      'name': vacancy_name,\n",
        "      'link': vacancy_link,\n",
        "      'salary': vacancy_salary,\n",
        "      'station': vacancy_station\n",
        "  }\n",
        "\n",
        "  vacancies_list.append(vacancy_dict)"
      ],
      "metadata": {
        "id": "07j5Iw6j0ADB"
      },
      "execution_count": 40,
      "outputs": []
    },
    {
      "cell_type": "code",
      "source": [
        "vacancies_list"
      ],
      "metadata": {
        "colab": {
          "base_uri": "https://localhost:8080/"
        },
        "id": "vtr2wOjJ0BRp",
        "outputId": "7621a3db-147d-4d3f-a57e-470412608590"
      },
      "execution_count": 41,
      "outputs": [
        {
          "output_type": "execute_result",
          "data": {
            "text/plain": [
              "[{'name': 'Python developer (Senior)',\n",
              "  'link': 'https://spb.hh.ru/vacancy/54956212?from=vacancy_search_list&hhtmFrom=vacancy_search_list&query=python',\n",
              "  'salary': '360\\u202f000 – 480\\u202f000 руб.',\n",
              "  'station': 'Петроградская'},\n",
              " {'name': 'Python developer (Middle)',\n",
              "  'link': 'https://spb.hh.ru/vacancy/67856203?from=vacancy_search_list&hhtmFrom=vacancy_search_list&query=python',\n",
              "  'salary': '300\\u202f000 – 360\\u202f000 руб.',\n",
              "  'station': 'Петроградская'},\n",
              " {'name': 'Python developer/Разработчик Python',\n",
              "  'link': 'https://spb.hh.ru/vacancy/70966398?from=vacancy_search_list&hhtmFrom=vacancy_search_list&query=python',\n",
              "  'salary': None,\n",
              "  'station': 'Старая Деревня'},\n",
              " {'name': 'Python Developer + ML',\n",
              "  'link': 'https://spb.hh.ru/vacancy/70862358?from=vacancy_search_list&hhtmFrom=vacancy_search_list&query=python',\n",
              "  'salary': 'от 150\\u202f000 руб.',\n",
              "  'station': 'Спортивная'},\n",
              " {'name': 'Разработчик Python',\n",
              "  'link': 'https://spb.hh.ru/vacancy/71026597?from=vacancy_search_list&hhtmFrom=vacancy_search_list&query=python',\n",
              "  'salary': None,\n",
              "  'station': None},\n",
              " {'name': 'Data Analyst',\n",
              "  'link': 'https://spb.hh.ru/vacancy/71080058?from=vacancy_search_list&hhtmFrom=vacancy_search_list&query=python',\n",
              "  'salary': '20\\u202f000 – 50\\u202f000 руб.',\n",
              "  'station': None},\n",
              " {'name': 'Python-разработчик',\n",
              "  'link': 'https://spb.hh.ru/vacancy/70841217?from=vacancy_search_list&hhtmFrom=vacancy_search_list&query=python',\n",
              "  'salary': None,\n",
              "  'station': None},\n",
              " {'name': 'Python-разработчик в R&D отдел',\n",
              "  'link': 'https://spb.hh.ru/vacancy/49299311?from=vacancy_search_list&hhtmFrom=vacancy_search_list&query=python',\n",
              "  'salary': '100\\u202f000 – 150\\u202f000 руб.',\n",
              "  'station': None},\n",
              " {'name': 'Разработчик Python',\n",
              "  'link': 'https://spb.hh.ru/vacancy/71151597?from=vacancy_search_list&hhtmFrom=vacancy_search_list&query=python',\n",
              "  'salary': None,\n",
              "  'station': 'Чернышевская'},\n",
              " {'name': 'Разработчик Python',\n",
              "  'link': 'https://spb.hh.ru/vacancy/71228741?from=vacancy_search_list&hhtmFrom=vacancy_search_list&query=python',\n",
              "  'salary': None,\n",
              "  'station': 'Кировский завод'},\n",
              " {'name': 'Data Scientist',\n",
              "  'link': 'https://spb.hh.ru/vacancy/71228742?from=vacancy_search_list&hhtmFrom=vacancy_search_list&query=python',\n",
              "  'salary': 'от 150\\u202f000 руб.',\n",
              "  'station': None},\n",
              " {'name': 'Программист-разработчик',\n",
              "  'link': 'https://spb.hh.ru/vacancy/71237578?from=vacancy_search_list&hhtmFrom=vacancy_search_list&query=python',\n",
              "  'salary': 'от 300\\u202f000 руб.',\n",
              "  'station': None},\n",
              " {'name': 'Machine Learning Engineer',\n",
              "  'link': 'https://spb.hh.ru/vacancy/71059469?from=vacancy_search_list&hhtmFrom=vacancy_search_list&query=python',\n",
              "  'salary': '100\\u202f000 – 200\\u202f000 руб.',\n",
              "  'station': 'Чернышевская'},\n",
              " {'name': 'Python-разработчик (Junior+)',\n",
              "  'link': 'https://spb.hh.ru/vacancy/69953066?from=vacancy_search_list&hhtmFrom=vacancy_search_list&query=python',\n",
              "  'salary': '80\\u202f000 – 120\\u202f000 руб.',\n",
              "  'station': 'Московские ворота'},\n",
              " {'name': 'Data Analyst (Remote)',\n",
              "  'link': 'https://spb.hh.ru/vacancy/70449443?from=vacancy_search_list&hhtmFrom=vacancy_search_list&query=python',\n",
              "  'salary': 'от 4\\u202f500 USD',\n",
              "  'station': None},\n",
              " {'name': 'Junior Product manager/ Аналитик (удаленно)',\n",
              "  'link': 'https://spb.hh.ru/vacancy/71105508?from=vacancy_search_list&hhtmFrom=vacancy_search_list&query=python',\n",
              "  'salary': '80\\u202f000 – 110\\u202f000 руб.',\n",
              "  'station': None},\n",
              " {'name': 'Python Back-end Разработчик / Python Back-end Developer',\n",
              "  'link': 'https://spb.hh.ru/vacancy/46823861?from=vacancy_search_list&hhtmFrom=vacancy_search_list&query=python',\n",
              "  'salary': None,\n",
              "  'station': 'Горьковская'},\n",
              " {'name': 'Python-разработчик систем сбора',\n",
              "  'link': 'https://spb.hh.ru/vacancy/49299293?from=vacancy_search_list&hhtmFrom=vacancy_search_list&query=python',\n",
              "  'salary': '100\\u202f000 – 150\\u202f000 руб.',\n",
              "  'station': None},\n",
              " {'name': 'Младший разработчик',\n",
              "  'link': 'https://spb.hh.ru/vacancy/70572202?from=vacancy_search_list&hhtmFrom=vacancy_search_list&query=python',\n",
              "  'salary': None,\n",
              "  'station': None},\n",
              " {'name': 'ML Инженер (middle)',\n",
              "  'link': 'https://spb.hh.ru/vacancy/71088981?from=vacancy_search_list&hhtmFrom=vacancy_search_list&query=python',\n",
              "  'salary': None,\n",
              "  'station': None}]"
            ]
          },
          "metadata": {},
          "execution_count": 41
        }
      ]
    },
    {
      "cell_type": "code",
      "source": [],
      "metadata": {
        "id": "2B9s9-wn02A4"
      },
      "execution_count": null,
      "outputs": []
    }
  ]
}